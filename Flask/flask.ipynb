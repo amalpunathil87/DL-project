{
 "cells": [
  {
   "cell_type": "code",
   "execution_count": 4,
   "id": "6cf0d6a3",
   "metadata": {},
   "outputs": [],
   "source": [
    "from flask import Flask, request, render_template\n",
    "\n",
    "app = Flask(__name__)\n"
   ]
  },
  {
   "cell_type": "code",
   "execution_count": 5,
   "id": "2abf77d1",
   "metadata": {},
   "outputs": [],
   "source": [
    "@app.route('/')\n",
    "def home():\n",
    "    return render_template('frd.html')"
   ]
  },
  {
   "cell_type": "code",
   "execution_count": 6,
   "id": "ee181f66",
   "metadata": {},
   "outputs": [
    {
     "name": "stdout",
     "output_type": "stream",
     "text": [
      " * Serving Flask app '__main__'\n",
      " * Debug mode: off\n"
     ]
    },
    {
     "name": "stderr",
     "output_type": "stream",
     "text": [
      "WARNING: This is a development server. Do not use it in a production deployment. Use a production WSGI server instead.\n",
      " * Running on http://127.0.0.1:5000\n",
      "Press CTRL+C to quit\n",
      "127.0.0.1 - - [02/May/2023 16:27:12] \"GET / HTTP/1.1\" 200 -\n",
      "127.0.0.1 - - [02/May/2023 16:27:12] \"GET / HTTP/1.1\" 200 -\n",
      "127.0.0.1 - - [02/May/2023 16:27:12] \"GET /static/image/bg.jpg HTTP/1.1\" 304 -\n",
      "127.0.0.1 - - [02/May/2023 16:27:33] \"GET / HTTP/1.1\" 200 -\n",
      "127.0.0.1 - - [02/May/2023 16:27:33] \"GET /static/image/bg.jpg HTTP/1.1\" 304 -\n",
      "127.0.0.1 - - [02/May/2023 16:27:33] \"GET / HTTP/1.1\" 200 -\n"
     ]
    }
   ],
   "source": [
    "if __name__=='__main__':\n",
    "        app.run()"
   ]
  },
  {
   "cell_type": "code",
   "execution_count": null,
   "id": "a979cde2",
   "metadata": {},
   "outputs": [],
   "source": []
  }
 ],
 "metadata": {
  "kernelspec": {
   "display_name": "Python 3 (ipykernel)",
   "language": "python",
   "name": "python3"
  },
  "language_info": {
   "codemirror_mode": {
    "name": "ipython",
    "version": 3
   },
   "file_extension": ".py",
   "mimetype": "text/x-python",
   "name": "python",
   "nbconvert_exporter": "python",
   "pygments_lexer": "ipython3",
   "version": "3.10.10"
  }
 },
 "nbformat": 4,
 "nbformat_minor": 5
}
